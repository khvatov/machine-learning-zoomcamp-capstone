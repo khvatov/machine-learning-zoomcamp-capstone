{
 "cells": [
  {
   "cell_type": "markdown",
   "id": "5309baf0-f2e8-4192-a586-6eec83130526",
   "metadata": {},
   "source": [
    "https://archive.ics.uci.edu/dataset/329/diabetic+retinopathy+debrecen"
   ]
  },
  {
   "cell_type": "markdown",
   "id": "1706f9ea-9901-4e08-9268-36a64c1f83cf",
   "metadata": {},
   "source": [
    "## Alex Khvatov Capstone project"
   ]
  },
  {
   "cell_type": "markdown",
   "id": "d5b87107-33b7-42dc-b880-85f013bee6dd",
   "metadata": {},
   "source": [
    "_This dataset contains features extracted from the Messidor image set to predict whether an image contains signs of diabetic retinopathy or not._"
   ]
  },
  {
   "cell_type": "code",
   "execution_count": 18,
   "id": "535b435c-da0b-4d6f-b6d7-9f9a15b0217a",
   "metadata": {},
   "outputs": [
    {
     "name": "stdout",
     "output_type": "stream",
     "text": [
      "--2025-01-03 21:26:08--  https://archive.ics.uci.edu/static/public/329/diabetic+retinopathy+debrecen.zip\n",
      "Resolving archive.ics.uci.edu (archive.ics.uci.edu)... 128.195.10.252\n",
      "connected. to archive.ics.uci.edu (archive.ics.uci.edu)|128.195.10.252|:443... \n",
      "HTTP request sent, awaiting response... 200 OK\n",
      "Length: unspecified\n",
      "Saving to: ‘diabetic+retinopathy+debrecen.zip’\n",
      "\n",
      "diabetic+retinopath     [ <=>                ]  46.52K  --.-KB/s    in 0.1s    \n",
      "\n",
      "2025-01-03 21:26:09 (321 KB/s) - ‘diabetic+retinopathy+debrecen.zip’ saved [47634]\n",
      "\n"
     ]
    }
   ],
   "source": [
    "!cd data; wget https://archive.ics.uci.edu/static/public/329/diabetic+retinopathy+debrecen.zip -O diabetic+retinopathy+debrecen.zip"
   ]
  },
  {
   "cell_type": "code",
   "execution_count": 21,
   "id": "6d3ee553-ba2c-46b2-9b6d-bd8f14451695",
   "metadata": {},
   "outputs": [
    {
     "name": "stdout",
     "output_type": "stream",
     "text": [
      "Archive:  diabetic+retinopathy+debrecen.zip\n",
      "  inflating: messidor_features.arff  \n"
     ]
    }
   ],
   "source": [
    "!cd data; unzip -o diabetic+retinopathy+debrecen.zip"
   ]
  },
  {
   "cell_type": "code",
   "execution_count": 22,
   "id": "a5c5049e-8d78-458f-931f-44eed81b1bed",
   "metadata": {},
   "outputs": [],
   "source": [
    "!cd data; rm diabetic+retinopathy+debrecen.zip"
   ]
  },
  {
   "cell_type": "code",
   "execution_count": 3,
   "id": "211a9cfd-8072-4d3e-a69c-456f2852ba5d",
   "metadata": {},
   "outputs": [],
   "source": [
    "import pandas as pd\n",
    "import numpy as np\n",
    "from pathlib import Path\n",
    "import matplotlib.pyplot as plt\n",
    "import seaborn as sns\n",
    "\n",
    "pd.options.mode.copy_on_write = True"
   ]
  },
  {
   "cell_type": "code",
   "execution_count": 27,
   "id": "020311fd-3dc6-429b-b952-9f85512a6b5c",
   "metadata": {},
   "outputs": [],
   "source": [
    "columns = [\n",
    "    'quality',\n",
    "    'pre_screening',\n",
    "    'ma1',\n",
    "    'ma2',\n",
    "    'ma3',\n",
    "    'ma4',\n",
    "    'ma5',\n",
    "    'ma6',\n",
    "    'exudate1',\n",
    "    'exudate2',\n",
    "    'exudate3',\n",
    "    'exudate4',\n",
    "    'exudate5',\n",
    "    'exudate6',\n",
    "    'exudate7',\n",
    "    'exudate8',\n",
    "    'macula_opticdisc_distance',\n",
    "    'opticdisc_diameter',\n",
    "    'am_fm_classification',\n",
    "    'class'\n",
    "]"
   ]
  },
  {
   "cell_type": "code",
   "execution_count": 28,
   "id": "e2d5c556-431a-4338-aa47-f452211c793e",
   "metadata": {},
   "outputs": [],
   "source": [
    "path_to_data = Path.resolve(Path(\"./data/messidor_features.arff\"))"
   ]
  },
  {
   "cell_type": "markdown",
   "id": "bf9e662b-8a9b-4dba-884f-c05de7b14094",
   "metadata": {},
   "source": [
    "### Variables Table\n",
    "\n",
    "\n",
    "| Variable Name\t| Role\t| Type\t| Description\t| Units\t| Missing Values |\n",
    "|---------------|-------|-------|---------------|-------|----------------|\n",
    "| quality\t    |Feature|Binary\t|The binary result of quality assessment. 0 = bad quality 1 = sufficient quality.| |no|\n",
    "|pre_screening  |Feature|Binary\t|The binary result of pre-screening, where 1 indicates severe retinal abnormality and 0 its lack.| |no|\n",
    "|ma1            |Feature|Integer| ma1 - ma-6 contain the results of MA detection. Each feature value stand for the number of MAs found at the confidence levels alpha = 0.5, . . . , 1, respectively.| |no|\n",
    "|ma2\t|Feature\t|Integer\t\t|\t| |no|\n",
    "|ma3\t|Feature\t|Integer\t\t|\t| |no|\n",
    "|ma4\t|Feature\t|Integer\t\t|\t| |no|\n",
    "|ma5\t|Feature\t|Integer\t\t|\t| |no|\n",
    "|ma6\t|Feature\t|Integer\t\t|\t| |no|\n",
    "|exudate1\t|Feature\t|Continuous\t|exudate1 - exudate8 contain the same information as 2-7) for exudates. However, as exudates are represented by a set of points rather than the number of pixels constructing the lesions, these features are normalized by dividing the number of lesions with the diameter of the ROI to compensate different image sizes.\t\t| |no|\n",
    "|exudate2\t|Feature\t|Continuous\t|\t\t| |no|\n",
    "|exudate3\t|Feature\t|Continuous\t|\t\t| |no|\n",
    "|exudate3\t|Feature\t|Continuous\t|\t\t| |no|\n",
    "|exudate5\t|Feature\t|Continuous\t|\t\t| |no|\n",
    "|exudate6\t|Feature\t|Continuous\t|\t\t| |no|\n",
    "|exudate7\t|Feature\t|Continuous\t|\t\t| |no|\n",
    "|exudate8\t|Feature\t|Continuous\t|\t\t| |no|\n",
    "|macula_opticdisc_distance\t|Feature\t|Continuous\t|The euclidean distance of the center of the macula and the center of the optic disc to provide important information regarding the patient's condition. This feature is also normalized with the diameter of the ROI.\t| |no|\n",
    "|opticdisc_diameter\t|Feature\t|Continuous\t|The diameter of the optic disc.\t\t| |no|\n",
    "|am_fm_classification\t|Feature\t|Binary\t|The binary result of the AM/FM-based classification.\t\t| |no|\n",
    "|Class\t|Target\t|Binary\t|Class label. 1 = contains signs of DR (Accumulative label for the Messidor classes 1, 2, 3), 0 = no signs of DR.\t\t| |no|\n"
   ]
  },
  {
   "cell_type": "code",
   "execution_count": 29,
   "id": "7f07611e-2409-4b83-8ee7-10f3dc532fc1",
   "metadata": {},
   "outputs": [],
   "source": [
    "df = pd.read_csv(path_to_data, skiprows=24, names=columns)"
   ]
  },
  {
   "cell_type": "code",
   "execution_count": 32,
   "id": "daa61b48-16d6-4d62-a7f9-4226431681b4",
   "metadata": {},
   "outputs": [
    {
     "data": {
      "text/plain": [
       "quality                        int64\n",
       "pre_screening                  int64\n",
       "ma1                            int64\n",
       "ma2                            int64\n",
       "ma3                            int64\n",
       "ma4                            int64\n",
       "ma5                            int64\n",
       "ma6                            int64\n",
       "exudate1                     float64\n",
       "exudate2                     float64\n",
       "exudate3                     float64\n",
       "exudate4                     float64\n",
       "exudate5                     float64\n",
       "exudate6                     float64\n",
       "exudate7                     float64\n",
       "exudate8                     float64\n",
       "macula_opticdisc_distance    float64\n",
       "opticdisc_diameter           float64\n",
       "am_fm_classification           int64\n",
       "class                          int64\n",
       "dtype: object"
      ]
     },
     "execution_count": 32,
     "metadata": {},
     "output_type": "execute_result"
    }
   ],
   "source": [
    "df.dtypes"
   ]
  },
  {
   "cell_type": "code",
   "execution_count": null,
   "id": "192cd3bf-c0ab-4d36-b6b5-686a04055690",
   "metadata": {},
   "outputs": [],
   "source": []
  }
 ],
 "metadata": {
  "kernelspec": {
   "display_name": "Python 3 (ipykernel)",
   "language": "python",
   "name": "python3"
  },
  "language_info": {
   "codemirror_mode": {
    "name": "ipython",
    "version": 3
   },
   "file_extension": ".py",
   "mimetype": "text/x-python",
   "name": "python",
   "nbconvert_exporter": "python",
   "pygments_lexer": "ipython3",
   "version": "3.11.10"
  }
 },
 "nbformat": 4,
 "nbformat_minor": 5
}

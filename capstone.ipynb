{
 "cells": [
  {
   "cell_type": "markdown",
   "id": "5309baf0-f2e8-4192-a586-6eec83130526",
   "metadata": {},
   "source": [
    "https://archive.ics.uci.edu/dataset/329/diabetic+retinopathy+debrecen"
   ]
  }
 ],
 "metadata": {
  "kernelspec": {
   "display_name": "Python 3 (ipykernel)",
   "language": "python",
   "name": "python3"
  },
  "language_info": {
   "codemirror_mode": {
    "name": "ipython",
    "version": 3
   },
   "file_extension": ".py",
   "mimetype": "text/x-python",
   "name": "python",
   "nbconvert_exporter": "python",
   "pygments_lexer": "ipython3",
   "version": "3.11.10"
  }
 },
 "nbformat": 4,
 "nbformat_minor": 5
}

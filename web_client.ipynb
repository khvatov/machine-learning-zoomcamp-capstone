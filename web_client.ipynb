{
 "cells": [
  {
   "cell_type": "code",
   "execution_count": 1,
   "id": "65252c8a-2e31-449b-9381-411948f828d8",
   "metadata": {},
   "outputs": [],
   "source": [
    "import requests"
   ]
  },
  {
   "cell_type": "code",
   "execution_count": 2,
   "id": "f4d8f18a-7a29-4588-b57b-c1ae0bb2a741",
   "metadata": {},
   "outputs": [],
   "source": [
    "url = \"http://localhost:9696/predict\""
   ]
  },
  {
   "cell_type": "code",
   "execution_count": 3,
   "id": "41913043-ce7d-4776-bb6e-2662d6ee2c0d",
   "metadata": {},
   "outputs": [],
   "source": [
    "# SAMPLE DATA TO SEND TO THE API\n",
    "#{\"quality\":\"1\",\"pre_screening\":\"1\",\"ma1\":22,\"ma2\":22,\"ma3\":22,\"ma4\":19,\"ma5\":18,\"ma6\":14,\"exudate1\":49.895756,\"exudate2\":17.775994,\"exudate3\":5.27092,\"exudate4\":0.771761,\"exudate5\":0.018632,\"exudate6\":0.006864,\"exudate7\":0.003923,\"exudate8\":0.003923,\"macula_opticdisc_distance\":0.486903,\"opticdisc_diameter\":0.100025,\"am_fm_classification\":\"1\"}\n",
    "#class = 0\n",
    "\n",
    "#{\"quality\":\"1\",\"pre_screening\":\"1\",\"ma1\":24,\"ma2\":24,\"ma3\":22,\"ma4\":18,\"ma5\":16,\"ma6\":13,\"exudate1\":57.709936,\"exudate2\":23.799994,\"exudate3\":3.325423,\"exudate4\":0.234185,\"exudate5\":0.003903,\"exudate6\":0.003903,\"exudate7\":0.003903,\"exudate8\":0.003903,\"macula_opticdisc_distance\":0.520908,\"opticdisc_diameter\":0.144414,\"am_fm_classification\":\"0\"}\n",
    "#class = 0\n",
    "\n",
    "#{\"quality\":\"1\",\"pre_screening\":\"1\",\"ma1\":62,\"ma2\":60,\"ma3\":59,\"ma4\":54,\"ma5\":47,\"ma6\":33,\"exudate1\":55.831441,\"exudate2\":27.993933,\"exudate3\":12.687485,\"exudate4\":4.852282,\"exudate5\":1.393889,\"exudate6\":0.373252,\"exudate7\":0.041817,\"exudate8\":0.007744,\"macula_opticdisc_distance\":0.530904,\"opticdisc_diameter\":0.128548,\"am_fm_classification\":\"0\"}\n",
    "#class = 1\n",
    "\n",
    "#{\"quality\":\"1\",\"pre_screening\":\"1\",\"ma1\":55,\"ma2\":53,\"ma3\":53,\"ma4\":50,\"ma5\":43,\"ma6\":31,\"exudate1\":40.467228,\"exudate2\":18.445954,\"exudate3\":9.118901,\"exudate4\":3.079428,\"exudate5\":0.840261,\"exudate6\":0.272434,\"exudate7\":0.007653,\"exudate8\":0.001531,\"macula_opticdisc_distance\":0.483284,\"opticdisc_diameter\":0.11479,\"am_fm_classification\":\"0\"}\n",
    "#class = 0\n",
    "\n",
    "#{\"quality\":\"1\",\"pre_screening\":\"1\",\"ma1\":44,\"ma2\":44,\"ma3\":44,\"ma4\":41,\"ma5\":39,\"ma6\":27,\"exudate1\":18.026254,\"exudate2\":8.570709,\"exudate3\":0.410381,\"exudate4\":0.0,\"exudate5\":0.0,\"exudate6\":0.0,\"exudate7\":0.0,\"exudate8\":0.0,\"macula_opticdisc_distance\":0.475935,\"opticdisc_diameter\":0.123572,\"am_fm_classification\":\"0\"}\n",
    "#class = 1\n"
   ]
  },
  {
   "cell_type": "code",
   "execution_count": 4,
   "id": "948ff687-de9f-4b10-8aae-e67edf5871d8",
   "metadata": {},
   "outputs": [],
   "source": [
    "patient1 = {\"quality\":\"1\",\"pre_screening\":\"1\",\"ma1\":22,\"ma2\":22,\"ma3\":22,\"ma4\":19,\"ma5\":18,\"ma6\":14,\"exudate1\":49.895756,\"exudate2\":17.775994,\"exudate3\":5.27092,\"exudate4\":0.771761,\"exudate5\":0.018632,\"exudate6\":0.006864,\"exudate7\":0.003923,\"exudate8\":0.003923,\"macula_opticdisc_distance\":0.486903,\"opticdisc_diameter\":0.100025,\"am_fm_classification\":\"1\"}\n",
    "patient2 = {\"quality\":\"1\",\"pre_screening\":\"1\",\"ma1\":62,\"ma2\":60,\"ma3\":59,\"ma4\":54,\"ma5\":47,\"ma6\":33,\"exudate1\":55.831441,\"exudate2\":27.993933,\"exudate3\":12.687485,\"exudate4\":4.852282,\"exudate5\":1.393889,\"exudate6\":0.373252,\"exudate7\":0.041817,\"exudate8\":0.007744,\"macula_opticdisc_distance\":0.530904,\"opticdisc_diameter\":0.128548,\"am_fm_classification\":\"0\"}"
   ]
  },
  {
   "cell_type": "code",
   "execution_count": 5,
   "id": "a36fdbab-812f-4753-9f55-5b4f0a064892",
   "metadata": {},
   "outputs": [
    {
     "data": {
      "text/plain": [
       "{'diagnosis_probability': 0.22336893923855586, 'will_get_diagnosed': False}"
      ]
     },
     "execution_count": 5,
     "metadata": {},
     "output_type": "execute_result"
    }
   ],
   "source": [
    "response = requests.post(url, json=patient1).json()\n",
    "response"
   ]
  },
  {
   "cell_type": "code",
   "execution_count": 6,
   "id": "c8e6306e-5c7e-45d4-b3ef-1235aaedd4e3",
   "metadata": {},
   "outputs": [
    {
     "name": "stdout",
     "output_type": "stream",
     "text": [
      "The patient will NOT be diagnosed with diabetic retinopathy!\n"
     ]
    }
   ],
   "source": [
    "if(response['will_get_diagnosed'] == True):\n",
    "    print('The patient will be diagnosed diabetic retinopathy!')\n",
    "else:\n",
    "    print('The patient will NOT be diagnosed with diabetic retinopathy!')"
   ]
  },
  {
   "cell_type": "code",
   "execution_count": null,
   "id": "768f1eb3-c252-4cbf-b8d7-b71bce089377",
   "metadata": {},
   "outputs": [],
   "source": []
  }
 ],
 "metadata": {
  "kernelspec": {
   "display_name": "Python 3 (ipykernel)",
   "language": "python",
   "name": "python3"
  },
  "language_info": {
   "codemirror_mode": {
    "name": "ipython",
    "version": 3
   },
   "file_extension": ".py",
   "mimetype": "text/x-python",
   "name": "python",
   "nbconvert_exporter": "python",
   "pygments_lexer": "ipython3",
   "version": "3.11.10"
  }
 },
 "nbformat": 4,
 "nbformat_minor": 5
}
